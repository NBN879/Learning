{
  "nbformat": 4,
  "nbformat_minor": 0,
  "metadata": {
    "colab": {
      "provenance": [],
      "toc_visible": true,
      "authorship_tag": "ABX9TyMkqfqGQvfntCqlgeYqqgAg",
      "include_colab_link": true
    },
    "kernelspec": {
      "name": "python3",
      "display_name": "Python 3"
    },
    "language_info": {
      "name": "python"
    }
  },
  "cells": [
    {
      "cell_type": "markdown",
      "metadata": {
        "id": "view-in-github",
        "colab_type": "text"
      },
      "source": [
        "<a href=\"https://colab.research.google.com/github/NBN879/Learning/blob/main/2024_06_26_Lesson_1.ipynb\" target=\"_parent\"><img src=\"https://colab.research.google.com/assets/colab-badge.svg\" alt=\"Open In Colab\"/></a>"
      ]
    },
    {
      "cell_type": "code",
      "execution_count": null,
      "metadata": {
        "id": "nHZUglPnN6TQ"
      },
      "outputs": [],
      "source": [
        "import pandas as pd"
      ]
    },
    {
      "cell_type": "code",
      "source": [
        "df = pd.read_csv('https://stepik.org/media/attachments/lesson/360340/2_taxi_nyc.csv')"
      ],
      "metadata": {
        "id": "w_3gGVK5OiFK"
      },
      "execution_count": null,
      "outputs": []
    },
    {
      "cell_type": "code",
      "source": [
        "df.head()"
      ],
      "metadata": {
        "colab": {
          "base_uri": "https://localhost:8080/",
          "height": 206
        },
        "id": "YIo7ff5jOwvG",
        "outputId": "2d1b80cd-9b04-4502-fe1b-8cab3e8b1a18"
      },
      "execution_count": null,
      "outputs": [
        {
          "output_type": "execute_result",
          "data": {
            "text/plain": [
              "             pickup_dt pickup_month    borough  pickups hday  spd   vsb  temp  \\\n",
              "0  2015-01-01 01:00:00          Jan      Bronx      152    Y  5.0  10.0  30.0   \n",
              "1  2015-01-01 01:00:00          Jan   Brooklyn     1519    Y  5.0  10.0  30.0   \n",
              "2  2015-01-01 01:00:00          Jan        EWR        0    Y  5.0  10.0  30.0   \n",
              "3  2015-01-01 01:00:00          Jan  Manhattan     5258    Y  5.0  10.0  30.0   \n",
              "4  2015-01-01 01:00:00          Jan     Queens      405    Y  5.0  10.0  30.0   \n",
              "\n",
              "   dewp     slp  pcp 01  pcp 06  pcp 24   sd  \n",
              "0   7.0  1023.5     0.0     0.0     0.0  0.0  \n",
              "1   7.0  1023.5     0.0     0.0     0.0  0.0  \n",
              "2   7.0  1023.5     0.0     0.0     0.0  0.0  \n",
              "3   7.0  1023.5     0.0     0.0     0.0  0.0  \n",
              "4   7.0  1023.5     0.0     0.0     0.0  0.0  "
            ],
            "text/html": [
              "\n",
              "  <div id=\"df-3345f110-f0ce-491c-98c5-ff7593a75665\" class=\"colab-df-container\">\n",
              "    <div>\n",
              "<style scoped>\n",
              "    .dataframe tbody tr th:only-of-type {\n",
              "        vertical-align: middle;\n",
              "    }\n",
              "\n",
              "    .dataframe tbody tr th {\n",
              "        vertical-align: top;\n",
              "    }\n",
              "\n",
              "    .dataframe thead th {\n",
              "        text-align: right;\n",
              "    }\n",
              "</style>\n",
              "<table border=\"1\" class=\"dataframe\">\n",
              "  <thead>\n",
              "    <tr style=\"text-align: right;\">\n",
              "      <th></th>\n",
              "      <th>pickup_dt</th>\n",
              "      <th>pickup_month</th>\n",
              "      <th>borough</th>\n",
              "      <th>pickups</th>\n",
              "      <th>hday</th>\n",
              "      <th>spd</th>\n",
              "      <th>vsb</th>\n",
              "      <th>temp</th>\n",
              "      <th>dewp</th>\n",
              "      <th>slp</th>\n",
              "      <th>pcp 01</th>\n",
              "      <th>pcp 06</th>\n",
              "      <th>pcp 24</th>\n",
              "      <th>sd</th>\n",
              "    </tr>\n",
              "  </thead>\n",
              "  <tbody>\n",
              "    <tr>\n",
              "      <th>0</th>\n",
              "      <td>2015-01-01 01:00:00</td>\n",
              "      <td>Jan</td>\n",
              "      <td>Bronx</td>\n",
              "      <td>152</td>\n",
              "      <td>Y</td>\n",
              "      <td>5.0</td>\n",
              "      <td>10.0</td>\n",
              "      <td>30.0</td>\n",
              "      <td>7.0</td>\n",
              "      <td>1023.5</td>\n",
              "      <td>0.0</td>\n",
              "      <td>0.0</td>\n",
              "      <td>0.0</td>\n",
              "      <td>0.0</td>\n",
              "    </tr>\n",
              "    <tr>\n",
              "      <th>1</th>\n",
              "      <td>2015-01-01 01:00:00</td>\n",
              "      <td>Jan</td>\n",
              "      <td>Brooklyn</td>\n",
              "      <td>1519</td>\n",
              "      <td>Y</td>\n",
              "      <td>5.0</td>\n",
              "      <td>10.0</td>\n",
              "      <td>30.0</td>\n",
              "      <td>7.0</td>\n",
              "      <td>1023.5</td>\n",
              "      <td>0.0</td>\n",
              "      <td>0.0</td>\n",
              "      <td>0.0</td>\n",
              "      <td>0.0</td>\n",
              "    </tr>\n",
              "    <tr>\n",
              "      <th>2</th>\n",
              "      <td>2015-01-01 01:00:00</td>\n",
              "      <td>Jan</td>\n",
              "      <td>EWR</td>\n",
              "      <td>0</td>\n",
              "      <td>Y</td>\n",
              "      <td>5.0</td>\n",
              "      <td>10.0</td>\n",
              "      <td>30.0</td>\n",
              "      <td>7.0</td>\n",
              "      <td>1023.5</td>\n",
              "      <td>0.0</td>\n",
              "      <td>0.0</td>\n",
              "      <td>0.0</td>\n",
              "      <td>0.0</td>\n",
              "    </tr>\n",
              "    <tr>\n",
              "      <th>3</th>\n",
              "      <td>2015-01-01 01:00:00</td>\n",
              "      <td>Jan</td>\n",
              "      <td>Manhattan</td>\n",
              "      <td>5258</td>\n",
              "      <td>Y</td>\n",
              "      <td>5.0</td>\n",
              "      <td>10.0</td>\n",
              "      <td>30.0</td>\n",
              "      <td>7.0</td>\n",
              "      <td>1023.5</td>\n",
              "      <td>0.0</td>\n",
              "      <td>0.0</td>\n",
              "      <td>0.0</td>\n",
              "      <td>0.0</td>\n",
              "    </tr>\n",
              "    <tr>\n",
              "      <th>4</th>\n",
              "      <td>2015-01-01 01:00:00</td>\n",
              "      <td>Jan</td>\n",
              "      <td>Queens</td>\n",
              "      <td>405</td>\n",
              "      <td>Y</td>\n",
              "      <td>5.0</td>\n",
              "      <td>10.0</td>\n",
              "      <td>30.0</td>\n",
              "      <td>7.0</td>\n",
              "      <td>1023.5</td>\n",
              "      <td>0.0</td>\n",
              "      <td>0.0</td>\n",
              "      <td>0.0</td>\n",
              "      <td>0.0</td>\n",
              "    </tr>\n",
              "  </tbody>\n",
              "</table>\n",
              "</div>\n",
              "    <div class=\"colab-df-buttons\">\n",
              "\n",
              "  <div class=\"colab-df-container\">\n",
              "    <button class=\"colab-df-convert\" onclick=\"convertToInteractive('df-3345f110-f0ce-491c-98c5-ff7593a75665')\"\n",
              "            title=\"Convert this dataframe to an interactive table.\"\n",
              "            style=\"display:none;\">\n",
              "\n",
              "  <svg xmlns=\"http://www.w3.org/2000/svg\" height=\"24px\" viewBox=\"0 -960 960 960\">\n",
              "    <path d=\"M120-120v-720h720v720H120Zm60-500h600v-160H180v160Zm220 220h160v-160H400v160Zm0 220h160v-160H400v160ZM180-400h160v-160H180v160Zm440 0h160v-160H620v160ZM180-180h160v-160H180v160Zm440 0h160v-160H620v160Z\"/>\n",
              "  </svg>\n",
              "    </button>\n",
              "\n",
              "  <style>\n",
              "    .colab-df-container {\n",
              "      display:flex;\n",
              "      gap: 12px;\n",
              "    }\n",
              "\n",
              "    .colab-df-convert {\n",
              "      background-color: #E8F0FE;\n",
              "      border: none;\n",
              "      border-radius: 50%;\n",
              "      cursor: pointer;\n",
              "      display: none;\n",
              "      fill: #1967D2;\n",
              "      height: 32px;\n",
              "      padding: 0 0 0 0;\n",
              "      width: 32px;\n",
              "    }\n",
              "\n",
              "    .colab-df-convert:hover {\n",
              "      background-color: #E2EBFA;\n",
              "      box-shadow: 0px 1px 2px rgba(60, 64, 67, 0.3), 0px 1px 3px 1px rgba(60, 64, 67, 0.15);\n",
              "      fill: #174EA6;\n",
              "    }\n",
              "\n",
              "    .colab-df-buttons div {\n",
              "      margin-bottom: 4px;\n",
              "    }\n",
              "\n",
              "    [theme=dark] .colab-df-convert {\n",
              "      background-color: #3B4455;\n",
              "      fill: #D2E3FC;\n",
              "    }\n",
              "\n",
              "    [theme=dark] .colab-df-convert:hover {\n",
              "      background-color: #434B5C;\n",
              "      box-shadow: 0px 1px 3px 1px rgba(0, 0, 0, 0.15);\n",
              "      filter: drop-shadow(0px 1px 2px rgba(0, 0, 0, 0.3));\n",
              "      fill: #FFFFFF;\n",
              "    }\n",
              "  </style>\n",
              "\n",
              "    <script>\n",
              "      const buttonEl =\n",
              "        document.querySelector('#df-3345f110-f0ce-491c-98c5-ff7593a75665 button.colab-df-convert');\n",
              "      buttonEl.style.display =\n",
              "        google.colab.kernel.accessAllowed ? 'block' : 'none';\n",
              "\n",
              "      async function convertToInteractive(key) {\n",
              "        const element = document.querySelector('#df-3345f110-f0ce-491c-98c5-ff7593a75665');\n",
              "        const dataTable =\n",
              "          await google.colab.kernel.invokeFunction('convertToInteractive',\n",
              "                                                    [key], {});\n",
              "        if (!dataTable) return;\n",
              "\n",
              "        const docLinkHtml = 'Like what you see? Visit the ' +\n",
              "          '<a target=\"_blank\" href=https://colab.research.google.com/notebooks/data_table.ipynb>data table notebook</a>'\n",
              "          + ' to learn more about interactive tables.';\n",
              "        element.innerHTML = '';\n",
              "        dataTable['output_type'] = 'display_data';\n",
              "        await google.colab.output.renderOutput(dataTable, element);\n",
              "        const docLink = document.createElement('div');\n",
              "        docLink.innerHTML = docLinkHtml;\n",
              "        element.appendChild(docLink);\n",
              "      }\n",
              "    </script>\n",
              "  </div>\n",
              "\n",
              "\n",
              "<div id=\"df-8da8f065-4baa-4226-a716-26b8f4b9f384\">\n",
              "  <button class=\"colab-df-quickchart\" onclick=\"quickchart('df-8da8f065-4baa-4226-a716-26b8f4b9f384')\"\n",
              "            title=\"Suggest charts\"\n",
              "            style=\"display:none;\">\n",
              "\n",
              "<svg xmlns=\"http://www.w3.org/2000/svg\" height=\"24px\"viewBox=\"0 0 24 24\"\n",
              "     width=\"24px\">\n",
              "    <g>\n",
              "        <path d=\"M19 3H5c-1.1 0-2 .9-2 2v14c0 1.1.9 2 2 2h14c1.1 0 2-.9 2-2V5c0-1.1-.9-2-2-2zM9 17H7v-7h2v7zm4 0h-2V7h2v10zm4 0h-2v-4h2v4z\"/>\n",
              "    </g>\n",
              "</svg>\n",
              "  </button>\n",
              "\n",
              "<style>\n",
              "  .colab-df-quickchart {\n",
              "      --bg-color: #E8F0FE;\n",
              "      --fill-color: #1967D2;\n",
              "      --hover-bg-color: #E2EBFA;\n",
              "      --hover-fill-color: #174EA6;\n",
              "      --disabled-fill-color: #AAA;\n",
              "      --disabled-bg-color: #DDD;\n",
              "  }\n",
              "\n",
              "  [theme=dark] .colab-df-quickchart {\n",
              "      --bg-color: #3B4455;\n",
              "      --fill-color: #D2E3FC;\n",
              "      --hover-bg-color: #434B5C;\n",
              "      --hover-fill-color: #FFFFFF;\n",
              "      --disabled-bg-color: #3B4455;\n",
              "      --disabled-fill-color: #666;\n",
              "  }\n",
              "\n",
              "  .colab-df-quickchart {\n",
              "    background-color: var(--bg-color);\n",
              "    border: none;\n",
              "    border-radius: 50%;\n",
              "    cursor: pointer;\n",
              "    display: none;\n",
              "    fill: var(--fill-color);\n",
              "    height: 32px;\n",
              "    padding: 0;\n",
              "    width: 32px;\n",
              "  }\n",
              "\n",
              "  .colab-df-quickchart:hover {\n",
              "    background-color: var(--hover-bg-color);\n",
              "    box-shadow: 0 1px 2px rgba(60, 64, 67, 0.3), 0 1px 3px 1px rgba(60, 64, 67, 0.15);\n",
              "    fill: var(--button-hover-fill-color);\n",
              "  }\n",
              "\n",
              "  .colab-df-quickchart-complete:disabled,\n",
              "  .colab-df-quickchart-complete:disabled:hover {\n",
              "    background-color: var(--disabled-bg-color);\n",
              "    fill: var(--disabled-fill-color);\n",
              "    box-shadow: none;\n",
              "  }\n",
              "\n",
              "  .colab-df-spinner {\n",
              "    border: 2px solid var(--fill-color);\n",
              "    border-color: transparent;\n",
              "    border-bottom-color: var(--fill-color);\n",
              "    animation:\n",
              "      spin 1s steps(1) infinite;\n",
              "  }\n",
              "\n",
              "  @keyframes spin {\n",
              "    0% {\n",
              "      border-color: transparent;\n",
              "      border-bottom-color: var(--fill-color);\n",
              "      border-left-color: var(--fill-color);\n",
              "    }\n",
              "    20% {\n",
              "      border-color: transparent;\n",
              "      border-left-color: var(--fill-color);\n",
              "      border-top-color: var(--fill-color);\n",
              "    }\n",
              "    30% {\n",
              "      border-color: transparent;\n",
              "      border-left-color: var(--fill-color);\n",
              "      border-top-color: var(--fill-color);\n",
              "      border-right-color: var(--fill-color);\n",
              "    }\n",
              "    40% {\n",
              "      border-color: transparent;\n",
              "      border-right-color: var(--fill-color);\n",
              "      border-top-color: var(--fill-color);\n",
              "    }\n",
              "    60% {\n",
              "      border-color: transparent;\n",
              "      border-right-color: var(--fill-color);\n",
              "    }\n",
              "    80% {\n",
              "      border-color: transparent;\n",
              "      border-right-color: var(--fill-color);\n",
              "      border-bottom-color: var(--fill-color);\n",
              "    }\n",
              "    90% {\n",
              "      border-color: transparent;\n",
              "      border-bottom-color: var(--fill-color);\n",
              "    }\n",
              "  }\n",
              "</style>\n",
              "\n",
              "  <script>\n",
              "    async function quickchart(key) {\n",
              "      const quickchartButtonEl =\n",
              "        document.querySelector('#' + key + ' button');\n",
              "      quickchartButtonEl.disabled = true;  // To prevent multiple clicks.\n",
              "      quickchartButtonEl.classList.add('colab-df-spinner');\n",
              "      try {\n",
              "        const charts = await google.colab.kernel.invokeFunction(\n",
              "            'suggestCharts', [key], {});\n",
              "      } catch (error) {\n",
              "        console.error('Error during call to suggestCharts:', error);\n",
              "      }\n",
              "      quickchartButtonEl.classList.remove('colab-df-spinner');\n",
              "      quickchartButtonEl.classList.add('colab-df-quickchart-complete');\n",
              "    }\n",
              "    (() => {\n",
              "      let quickchartButtonEl =\n",
              "        document.querySelector('#df-8da8f065-4baa-4226-a716-26b8f4b9f384 button');\n",
              "      quickchartButtonEl.style.display =\n",
              "        google.colab.kernel.accessAllowed ? 'block' : 'none';\n",
              "    })();\n",
              "  </script>\n",
              "</div>\n",
              "    </div>\n",
              "  </div>\n"
            ],
            "application/vnd.google.colaboratory.intrinsic+json": {
              "type": "dataframe",
              "variable_name": "df",
              "summary": "{\n  \"name\": \"df\",\n  \"rows\": 29101,\n  \"fields\": [\n    {\n      \"column\": \"pickup_dt\",\n      \"properties\": {\n        \"dtype\": \"object\",\n        \"num_unique_values\": 4343,\n        \"samples\": [\n          \"2015-04-17 23:00:00\",\n          \"2015-01-14 07:00:00\",\n          \"2015-03-22 05:00:00\"\n        ],\n        \"semantic_type\": \"\",\n        \"description\": \"\"\n      }\n    },\n    {\n      \"column\": \"pickup_month\",\n      \"properties\": {\n        \"dtype\": \"category\",\n        \"num_unique_values\": 6,\n        \"samples\": [\n          \"Jan\",\n          \"Feb\",\n          \"Jun\"\n        ],\n        \"semantic_type\": \"\",\n        \"description\": \"\"\n      }\n    },\n    {\n      \"column\": \"borough\",\n      \"properties\": {\n        \"dtype\": \"category\",\n        \"num_unique_values\": 6,\n        \"samples\": [\n          \"Bronx\",\n          \"Brooklyn\",\n          \"Staten Island\"\n        ],\n        \"semantic_type\": \"\",\n        \"description\": \"\"\n      }\n    },\n    {\n      \"column\": \"pickups\",\n      \"properties\": {\n        \"dtype\": \"number\",\n        \"std\": 995,\n        \"min\": 0,\n        \"max\": 7883,\n        \"num_unique_values\": 3406,\n        \"samples\": [\n          672,\n          3340,\n          3062\n        ],\n        \"semantic_type\": \"\",\n        \"description\": \"\"\n      }\n    },\n    {\n      \"column\": \"hday\",\n      \"properties\": {\n        \"dtype\": \"category\",\n        \"num_unique_values\": 2,\n        \"samples\": [\n          \"N\",\n          \"Y\"\n        ],\n        \"semantic_type\": \"\",\n        \"description\": \"\"\n      }\n    },\n    {\n      \"column\": \"spd\",\n      \"properties\": {\n        \"dtype\": \"number\",\n        \"std\": 3.6990072421259317,\n        \"min\": 0.0,\n        \"max\": 21.0,\n        \"num_unique_values\": 114,\n        \"samples\": [\n          11.666666666666698,\n          7.0\n        ],\n        \"semantic_type\": \"\",\n        \"description\": \"\"\n      }\n    },\n    {\n      \"column\": \"vsb\",\n      \"properties\": {\n        \"dtype\": \"number\",\n        \"std\": 2.4428973586430613,\n        \"min\": 0.0,\n        \"max\": 10.0,\n        \"num_unique_values\": 179,\n        \"samples\": [\n          1.88,\n          8.0\n        ],\n        \"semantic_type\": \"\",\n        \"description\": \"\"\n      }\n    },\n    {\n      \"column\": \"temp\",\n      \"properties\": {\n        \"dtype\": \"number\",\n        \"std\": 19.81496900775326,\n        \"min\": 2.0,\n        \"max\": 89.0,\n        \"num_unique_values\": 295,\n        \"samples\": [\n          88.0,\n          57.0\n        ],\n        \"semantic_type\": \"\",\n        \"description\": \"\"\n      }\n    },\n    {\n      \"column\": \"dewp\",\n      \"properties\": {\n        \"dtype\": \"number\",\n        \"std\": 21.283444335840564,\n        \"min\": -16.0,\n        \"max\": 73.0,\n        \"num_unique_values\": 305,\n        \"samples\": [\n          39.5,\n          22.1666666666667\n        ],\n        \"semantic_type\": \"\",\n        \"description\": \"\"\n      }\n    },\n    {\n      \"column\": \"slp\",\n      \"properties\": {\n        \"dtype\": \"number\",\n        \"std\": 7.7687955799625,\n        \"min\": 991.4,\n        \"max\": 1043.4,\n        \"num_unique_values\": 413,\n        \"samples\": [\n          1002.8,\n          1032.2\n        ],\n        \"semantic_type\": \"\",\n        \"description\": \"\"\n      }\n    },\n    {\n      \"column\": \"pcp 01\",\n      \"properties\": {\n        \"dtype\": \"number\",\n        \"std\": 0.01893306514744435,\n        \"min\": 0.0,\n        \"max\": 0.28,\n        \"num_unique_values\": 80,\n        \"samples\": [\n          0.125,\n          0.0\n        ],\n        \"semantic_type\": \"\",\n        \"description\": \"\"\n      }\n    },\n    {\n      \"column\": \"pcp 06\",\n      \"properties\": {\n        \"dtype\": \"number\",\n        \"std\": 0.09312533964640277,\n        \"min\": 0.0,\n        \"max\": 1.24,\n        \"num_unique_values\": 318,\n        \"samples\": [\n          0.0383333333333333,\n          0.4783333333333329\n        ],\n        \"semantic_type\": \"\",\n        \"description\": \"\"\n      }\n    },\n    {\n      \"column\": \"pcp 24\",\n      \"properties\": {\n        \"dtype\": \"number\",\n        \"std\": 0.21940220170747873,\n        \"min\": 0.0,\n        \"max\": 2.1,\n        \"num_unique_values\": 484,\n        \"samples\": [\n          1.04833333333333,\n          0.4905\n        ],\n        \"semantic_type\": \"\",\n        \"description\": \"\"\n      }\n    },\n    {\n      \"column\": \"sd\",\n      \"properties\": {\n        \"dtype\": \"number\",\n        \"std\": 4.52032542398337,\n        \"min\": 0.0,\n        \"max\": 19.0,\n        \"num_unique_values\": 421,\n        \"samples\": [\n          8.5625,\n          18.25\n        ],\n        \"semantic_type\": \"\",\n        \"description\": \"\"\n      }\n    }\n  ]\n}"
            }
          },
          "metadata": {},
          "execution_count": 3
        }
      ]
    },
    {
      "cell_type": "code",
      "source": [
        "df.groupby('pickup_month').pickup_month.count()"
      ],
      "metadata": {
        "colab": {
          "base_uri": "https://localhost:8080/"
        },
        "id": "2NnVbmCPOyVQ",
        "outputId": "f7c30fd1-54e3-4e4e-af39-74bd4c6254d4"
      },
      "execution_count": null,
      "outputs": [
        {
          "output_type": "execute_result",
          "data": {
            "text/plain": [
              "pickup_month\n",
              "Apr    4798\n",
              "Feb    4492\n",
              "Jan    4897\n",
              "Jun    4899\n",
              "Mar    4957\n",
              "May    5058\n",
              "Name: pickup_month, dtype: int64"
            ]
          },
          "metadata": {},
          "execution_count": 10
        }
      ]
    },
    {
      "cell_type": "code",
      "source": [
        "df['pickup_month'].value_counts()"
      ],
      "metadata": {
        "colab": {
          "base_uri": "https://localhost:8080/"
        },
        "id": "hjFx6w_XPOk8",
        "outputId": "fd6d002c-5f94-4b90-8816-7e8a5d3269dc"
      },
      "execution_count": null,
      "outputs": [
        {
          "output_type": "execute_result",
          "data": {
            "text/plain": [
              "pickup_month\n",
              "May    5058\n",
              "Mar    4957\n",
              "Jun    4899\n",
              "Jan    4897\n",
              "Apr    4798\n",
              "Feb    4492\n",
              "Name: count, dtype: int64"
            ]
          },
          "metadata": {},
          "execution_count": 11
        }
      ]
    },
    {
      "cell_type": "code",
      "source": [
        "df.isna().sum()"
      ],
      "metadata": {
        "colab": {
          "base_uri": "https://localhost:8080/"
        },
        "id": "TZKWJTYgQlQu",
        "outputId": "4fa7541a-4d3b-4fca-852b-2a7e917d229a"
      },
      "execution_count": null,
      "outputs": [
        {
          "output_type": "execute_result",
          "data": {
            "text/plain": [
              "pickup_dt          0\n",
              "pickup_month       0\n",
              "borough         3043\n",
              "pickups            0\n",
              "hday               0\n",
              "spd                0\n",
              "vsb                0\n",
              "temp               0\n",
              "dewp               0\n",
              "slp                0\n",
              "pcp 01             0\n",
              "pcp 06             0\n",
              "pcp 24             0\n",
              "sd                 0\n",
              "dtype: int64"
            ]
          },
          "metadata": {},
          "execution_count": 13
        }
      ]
    },
    {
      "cell_type": "code",
      "source": [
        "import this"
      ],
      "metadata": {
        "id": "XOudPA1_QvBq",
        "colab": {
          "base_uri": "https://localhost:8080/"
        },
        "outputId": "16ac1e8b-2943-402c-eb10-1abaa2e0f0bd"
      },
      "execution_count": null,
      "outputs": [
        {
          "output_type": "stream",
          "name": "stdout",
          "text": [
            "The Zen of Python, by Tim Peters\n",
            "\n",
            "Beautiful is better than ugly.\n",
            "Explicit is better than implicit.\n",
            "Simple is better than complex.\n",
            "Complex is better than complicated.\n",
            "Flat is better than nested.\n",
            "Sparse is better than dense.\n",
            "Readability counts.\n",
            "Special cases aren't special enough to break the rules.\n",
            "Although practicality beats purity.\n",
            "Errors should never pass silently.\n",
            "Unless explicitly silenced.\n",
            "In the face of ambiguity, refuse the temptation to guess.\n",
            "There should be one-- and preferably only one --obvious way to do it.\n",
            "Although that way may not be obvious at first unless you're Dutch.\n",
            "Now is better than never.\n",
            "Although never is often better than *right* now.\n",
            "If the implementation is hard to explain, it's a bad idea.\n",
            "If the implementation is easy to explain, it may be a good idea.\n",
            "Namespaces are one honking great idea -- let's do more of those!\n"
          ]
        }
      ]
    },
    {
      "cell_type": "code",
      "source": [
        "is_equil = 10 == 5"
      ],
      "metadata": {
        "id": "ibfd-Bq5poRp"
      },
      "execution_count": null,
      "outputs": []
    },
    {
      "cell_type": "code",
      "source": [
        "is_equil"
      ],
      "metadata": {
        "colab": {
          "base_uri": "https://localhost:8080/"
        },
        "id": "eev0emFO1ETK",
        "outputId": "f6400ccb-74bf-4939-afa1-0113af213972"
      },
      "execution_count": null,
      "outputs": [
        {
          "output_type": "execute_result",
          "data": {
            "text/plain": [
              "False"
            ]
          },
          "metadata": {},
          "execution_count": 2
        }
      ]
    },
    {
      "cell_type": "code",
      "source": [
        "l = ['1', '2', '3']"
      ],
      "metadata": {
        "id": "4Cnv3Yx81ILf"
      },
      "execution_count": null,
      "outputs": []
    },
    {
      "cell_type": "code",
      "source": [
        "l.append('4')"
      ],
      "metadata": {
        "id": "kyEVBwst1Yxw"
      },
      "execution_count": null,
      "outputs": []
    },
    {
      "cell_type": "code",
      "source": [
        "l"
      ],
      "metadata": {
        "colab": {
          "base_uri": "https://localhost:8080/"
        },
        "id": "E_F5EpfI1a7G",
        "outputId": "cd51cecf-5e26-45e1-f921-cc7f3795b0c6"
      },
      "execution_count": null,
      "outputs": [
        {
          "output_type": "execute_result",
          "data": {
            "text/plain": [
              "['1', '2', '3', '4']"
            ]
          },
          "metadata": {},
          "execution_count": 5
        }
      ]
    },
    {
      "cell_type": "code",
      "source": [
        "l.insert(0, '5')"
      ],
      "metadata": {
        "id": "iWJ_Rs7H1bbm"
      },
      "execution_count": null,
      "outputs": []
    },
    {
      "cell_type": "code",
      "source": [
        "l"
      ],
      "metadata": {
        "colab": {
          "base_uri": "https://localhost:8080/"
        },
        "id": "R5Qxk4dx1frM",
        "outputId": "b495ace2-df7e-43b3-e948-36458c2dd589"
      },
      "execution_count": null,
      "outputs": [
        {
          "output_type": "execute_result",
          "data": {
            "text/plain": [
              "['5', '1', '2', '3', '4']"
            ]
          },
          "metadata": {},
          "execution_count": 7
        }
      ]
    },
    {
      "cell_type": "code",
      "source": [
        "for i in l:\n",
        "  print(i)"
      ],
      "metadata": {
        "colab": {
          "base_uri": "https://localhost:8080/"
        },
        "id": "imc1tAtF1gPE",
        "outputId": "74b2bff8-3de2-4292-b87a-c185b3d472c4"
      },
      "execution_count": null,
      "outputs": [
        {
          "output_type": "stream",
          "name": "stdout",
          "text": [
            "5\n",
            "1\n",
            "2\n",
            "3\n",
            "4\n"
          ]
        }
      ]
    },
    {
      "cell_type": "code",
      "source": [
        "j = 1\n",
        "while j < 10:\n",
        "  print(f'Текущий этап: {j}')\n",
        "  j += 1"
      ],
      "metadata": {
        "colab": {
          "base_uri": "https://localhost:8080/"
        },
        "id": "RYoPFq4T1w9L",
        "outputId": "0aaacb74-4cb2-441f-95cc-b1b1b50ddf1c"
      },
      "execution_count": null,
      "outputs": [
        {
          "output_type": "stream",
          "name": "stdout",
          "text": [
            "Текущий этап: 1\n",
            "Текущий этап: 2\n",
            "Текущий этап: 3\n",
            "Текущий этап: 4\n",
            "Текущий этап: 5\n",
            "Текущий этап: 6\n",
            "Текущий этап: 7\n",
            "Текущий этап: 8\n",
            "Текущий этап: 9\n"
          ]
        }
      ]
    },
    {
      "cell_type": "code",
      "source": [
        "for i in range(10):\n",
        "  if i == 5:\n",
        "    break\n",
        "  print(i)\n"
      ],
      "metadata": {
        "colab": {
          "base_uri": "https://localhost:8080/"
        },
        "id": "TJBJo-kf11ur",
        "outputId": "f9c21960-f89c-471d-9878-54cc39b5f4bd"
      },
      "execution_count": null,
      "outputs": [
        {
          "output_type": "stream",
          "name": "stdout",
          "text": [
            "0\n",
            "1\n",
            "2\n",
            "3\n",
            "4\n"
          ]
        }
      ]
    },
    {
      "cell_type": "code",
      "source": [
        "for j in range(11):\n",
        "  if j % 2 == 0:\n",
        "    continue\n",
        "  print(j)"
      ],
      "metadata": {
        "colab": {
          "base_uri": "https://localhost:8080/"
        },
        "id": "m6UrPmgB2RbB",
        "outputId": "1a5f8d20-df72-4b0b-e683-4c52166764da"
      },
      "execution_count": null,
      "outputs": [
        {
          "output_type": "stream",
          "name": "stdout",
          "text": [
            "1\n",
            "3\n",
            "5\n",
            "7\n",
            "9\n"
          ]
        }
      ]
    },
    {
      "cell_type": "code",
      "source": [
        "def func(name):\n",
        "  return f'hello, {name}'"
      ],
      "metadata": {
        "id": "gs_f2QJj2e_X"
      },
      "execution_count": null,
      "outputs": []
    },
    {
      "cell_type": "code",
      "source": [
        "s = func('Anna')"
      ],
      "metadata": {
        "id": "9XFL0zWH2vAz"
      },
      "execution_count": null,
      "outputs": []
    },
    {
      "cell_type": "code",
      "source": [
        "s"
      ],
      "metadata": {
        "colab": {
          "base_uri": "https://localhost:8080/",
          "height": 35
        },
        "id": "6qc4gHlh2xdc",
        "outputId": "c7ee6897-785f-46b8-f974-2fe6dbe007ca"
      },
      "execution_count": null,
      "outputs": [
        {
          "output_type": "execute_result",
          "data": {
            "text/plain": [
              "'hello, Anna'"
            ],
            "application/vnd.google.colaboratory.intrinsic+json": {
              "type": "string"
            }
          },
          "metadata": {},
          "execution_count": 21
        }
      ]
    },
    {
      "cell_type": "markdown",
      "source": [
        "### Игра \"Угадай число\""
      ],
      "metadata": {
        "id": "lFt5ApT14A6J"
      }
    },
    {
      "cell_type": "code",
      "source": [
        "import random\n",
        "\n",
        "def guess_number():\n",
        "  number = random.randint(1, 100) # значение от 1 до 100\n",
        "  print('Я загадал число от 1 до 100. Попробуй его угадать')\n",
        "\n",
        "  while True:\n",
        "    guess = input('Введите ваше предположение: ')\n",
        "    if guess.isdigit():\n",
        "      guess = int(guess)\n",
        "    else:\n",
        "      print('Вы ввели некорректное значение! Введите целое число')\n",
        "      continue\n",
        "\n",
        "    if guess < number:\n",
        "      print('Загаданное число больше')\n",
        "    elif guess > number:\n",
        "      print('Загаданное число меньше')\n",
        "    else:\n",
        "      print('Поздравляю!')\n",
        "      break\n"
      ],
      "metadata": {
        "id": "UHQLYSHF3yRk"
      },
      "execution_count": null,
      "outputs": []
    },
    {
      "cell_type": "code",
      "source": [
        "guess_number()"
      ],
      "metadata": {
        "colab": {
          "base_uri": "https://localhost:8080/"
        },
        "id": "AtYI5cPa23ah",
        "outputId": "ff5766ff-fd56-457f-9bdd-e2435f48456a"
      },
      "execution_count": null,
      "outputs": [
        {
          "output_type": "stream",
          "name": "stdout",
          "text": [
            "Я загадал число от 1 до 100. Попробуй его угадать\n",
            "Введите ваше предположение: ljlh\n",
            "Вы ввели некорректное значение! Введите целое число\n",
            "Введите ваше предположение: 64\n",
            "Загаданное число больше\n",
            "Введите ваше предположение: 67.9\n",
            "Вы ввели некорректное значение! Введите целое число\n",
            "Введите ваше предположение: 80\n",
            "Загаданное число больше\n",
            "Введите ваше предположение: 90\n",
            "Загаданное число больше\n",
            "Введите ваше предположение: 95\n",
            "Загаданное число меньше\n",
            "Введите ваше предположение: 93\n",
            "Загаданное число меньше\n",
            "Введите ваше предположение: 91\n",
            "Поздравляю!\n"
          ]
        }
      ]
    },
    {
      "cell_type": "markdown",
      "source": [
        "### Программа, которая анализирует текст, введенный пользователем, и выводит:\n",
        "1. количество слов;\n",
        "2. количество уникальных слов;\n",
        "3. самое частое слово"
      ],
      "metadata": {
        "id": "bybmfpa26tN3"
      }
    },
    {
      "cell_type": "code",
      "source": [
        "def word_count(words):\n",
        "  print(f'Общее количество слов в тексте = {len(words)}')\n",
        "  print(f'Кол-во уникальных слов = {len(set(words))}')\n",
        "  dict_words = {}\n",
        "  for word in words:\n",
        "    if word in dict_words:\n",
        "      dict_words[word] += 1\n",
        "    else:\n",
        "      dict_words[word] = 1\n",
        "\n",
        "  max_value = max(dict_words.values())\n",
        "  lmw = []\n",
        "  for key, value in dict_words.items():\n",
        "    if value == max_value:\n",
        "      lmw.append(key)\n",
        "\n",
        "  lmw = ', '.join(lmw)\n",
        "  print(f'Чаще всего встречаются следующие слова - \"{lmw}\"')\n",
        "  # print(dict_words)\n",
        "\n",
        "\n",
        "words = input('Введите текст, слова должны быть разделены пробелами: ') \\\n",
        "              .strip().split()\n",
        "word_count(words)"
      ],
      "metadata": {
        "colab": {
          "base_uri": "https://localhost:8080/"
        },
        "id": "TP_y-6Nt3uUg",
        "outputId": "3d4387dc-c7e1-460c-fb0a-e6c82694628a"
      },
      "execution_count": null,
      "outputs": [
        {
          "output_type": "stream",
          "name": "stdout",
          "text": [
            "Введите текст, слова должны быть разделены пробелами: asdfasdf 1 1 1 3 3 3 2\n",
            "Общее количество слов в тексте = 8\n",
            "Кол-во уникальных слов = 4\n",
            "Чаще всего встречаются следующие слова - \"1, 3\"\n"
          ]
        }
      ]
    },
    {
      "cell_type": "markdown",
      "source": [
        "### \"Поколение Python\": курс для продвинутых"
      ],
      "metadata": {
        "id": "9QFjgv7a4R9i"
      }
    },
    {
      "cell_type": "code",
      "source": [
        "def line_cost(s):\n",
        "  cost_in_kop = len(s) * 60\n",
        "  rub = cost_in_kop // 100\n",
        "  kop = cost_in_kop % 100\n",
        "  return rub, kop\n",
        "\n",
        "s = input()\n",
        "rub, kop = line_cost(s)\n",
        "print(f'{rub} р. {kop} коп.')"
      ],
      "metadata": {
        "colab": {
          "base_uri": "https://localhost:8080/"
        },
        "id": "nQXQkczq4Tuu",
        "outputId": "f7db8291-ef25-4df3-c1a1-77bf9e149e1a"
      },
      "execution_count": null,
      "outputs": [
        {
          "output_type": "stream",
          "name": "stdout",
          "text": [
            "asdfasdgsdfhsdfhsdfhsd adssdf\n",
            "17 р. 40 коп.\n"
          ]
        }
      ]
    },
    {
      "cell_type": "markdown",
      "source": [
        "### Аналитическая задача"
      ],
      "metadata": {
        "id": "QMvwgQa6lCd6"
      }
    },
    {
      "cell_type": "code",
      "source": [
        "import openpyxl\n",
        "\n",
        "def load_data(filename):\n",
        "  workbook = openpyxl.load_workbook(filename)\n",
        "  sheet = workbook.active\n",
        "  data = []\n",
        "\n",
        "\n"
      ],
      "metadata": {
        "id": "kZVMCohx7nAw"
      },
      "execution_count": null,
      "outputs": []
    },
    {
      "cell_type": "code",
      "source": [
        "# Проверка словаря\n",
        "d = {\n",
        "    '1': {'author': 'Allan', 'year': 2023},\n",
        "    '2': {'author': 'Allan', 'year': 2024},\n",
        "    '1': {'author': 'Allan', 'year': 2023},\n",
        "}\n",
        "\n",
        "x = {title: info for title, info in d.items() if info['author'] == 'Allan'}\n",
        "x"
      ],
      "metadata": {
        "colab": {
          "base_uri": "https://localhost:8080/"
        },
        "id": "S6is1Kk9SfC2",
        "outputId": "aa421790-62cf-4a39-aa38-5768c9b5f44e"
      },
      "execution_count": 3,
      "outputs": [
        {
          "output_type": "execute_result",
          "data": {
            "text/plain": [
              "{'1': {'author': 'Allan', 'year': 2023},\n",
              " '2': {'author': 'Allan', 'year': 2024}}"
            ]
          },
          "metadata": {},
          "execution_count": 3
        }
      ]
    },
    {
      "cell_type": "code",
      "source": [
        "2004 % 12"
      ],
      "metadata": {
        "colab": {
          "base_uri": "https://localhost:8080/"
        },
        "id": "bw8VZGIgTkd4",
        "outputId": "65e321dc-d7f6-4122-d2ea-b45e36006dde"
      },
      "execution_count": 6,
      "outputs": [
        {
          "output_type": "execute_result",
          "data": {
            "text/plain": [
              "0"
            ]
          },
          "metadata": {},
          "execution_count": 6
        }
      ]
    },
    {
      "cell_type": "code",
      "source": [
        "chinese_horoscope = {\n",
        "    'Дракон': 8,\n",
        "    'Змея': 9,\n",
        "    'Лошадь': 10,\n",
        "    'Овца': 11,\n",
        "    'Обезьяна': 0,\n",
        "    'Петух': 1,\n",
        "    'Собака': 2,\n",
        "    'Свинья': 3,\n",
        "    'Крыса': 4,\n",
        "    'Бык': 5,\n",
        "    'Тигр': 6,\n",
        "    'Заяц': 7\n",
        "}\n",
        "\n",
        "year_horoscope = int(input().strip()) % 12\n",
        "for key, value in chinese_horoscope.items():\n",
        "  if value == year_horoscope:\n",
        "    print(key)\n",
        "    break\n",
        "\n"
      ],
      "metadata": {
        "colab": {
          "base_uri": "https://localhost:8080/"
        },
        "id": "3FM538I8JfrX",
        "outputId": "aefd89fe-6bb9-414f-bed0-a7ff3ec15f67"
      },
      "execution_count": 8,
      "outputs": [
        {
          "output_type": "stream",
          "name": "stdout",
          "text": [
            "2000\n",
            "Дракон\n"
          ]
        }
      ]
    },
    {
      "cell_type": "code",
      "source": [
        "chinese_horoscope = ['Обезьяна', 'Петух', 'Собака', 'Свинья', 'Крыса', 'Бык', 'Тигр', 'Заяц', 'Дракон', 'Змея', 'Лошадь', 'Овца']\n",
        "print(chinese_horoscope[int(input()) % 12])"
      ],
      "metadata": {
        "colab": {
          "base_uri": "https://localhost:8080/"
        },
        "id": "ARXvRJ3wLrSK",
        "outputId": "01f69246-0850-49d7-9c3f-f09726b1f1e6"
      },
      "execution_count": 1,
      "outputs": [
        {
          "output_type": "stream",
          "name": "stdout",
          "text": [
            "2000\n",
            "Дракон\n"
          ]
        }
      ]
    },
    {
      "cell_type": "code",
      "source": [
        "n = input().strip()\n",
        "#\n",
        "\n",
        "print(f'{n[:-5]}')\n",
        "print(f'{n[-5:][::-1]}')\n",
        "new = n[:-5] + n[-5:][::-1]\n",
        "print(int(new))\n"
      ],
      "metadata": {
        "colab": {
          "base_uri": "https://localhost:8080/"
        },
        "id": "lpuf05_Q3iiI",
        "outputId": "c072f309-b2bb-40ca-dbc9-525157256b15"
      },
      "execution_count": 16,
      "outputs": [
        {
          "output_type": "stream",
          "name": "stdout",
          "text": [
            "123456\n",
            "1\n",
            "65432\n",
            "165432\n"
          ]
        }
      ]
    },
    {
      "cell_type": "code",
      "source": [
        "n = input()\n",
        "new_n = int(n[:-5] + n[-5:][::-1])\n",
        "\n",
        "print(new_n)"
      ],
      "metadata": {
        "colab": {
          "base_uri": "https://localhost:8080/"
        },
        "id": "YIk-yKLh4xeU",
        "outputId": "7e7c1819-cb83-4599-9a15-1cb0bc1a406d"
      },
      "execution_count": 14,
      "outputs": [
        {
          "output_type": "stream",
          "name": "stdout",
          "text": [
            "123456\n",
            "165432\n"
          ]
        }
      ]
    },
    {
      "cell_type": "code",
      "source": [
        "def func(**kwargs):\n",
        "  print(kwargs)\n",
        "  print(max(kwargs.values()))\n",
        "\n",
        "func(a = 1, b = 2, c = 3, d = 4, e = 5)"
      ],
      "metadata": {
        "colab": {
          "base_uri": "https://localhost:8080/"
        },
        "id": "-gqmwCl59acS",
        "outputId": "85213994-60d7-444c-c715-0296d2936bfc"
      },
      "execution_count": 30,
      "outputs": [
        {
          "output_type": "stream",
          "name": "stdout",
          "text": [
            "{'a': 1, 'b': 2, 'c': 3, 'd': 4, 'e': 5}\n",
            "5\n"
          ]
        }
      ]
    },
    {
      "cell_type": "code",
      "source": [
        "s = int(input())\n",
        "'{:,}'.format(s)"
      ],
      "metadata": {
        "colab": {
          "base_uri": "https://localhost:8080/",
          "height": 52
        },
        "id": "XznG7TcsUqKl",
        "outputId": "3bdf4cbd-268f-4e05-85f1-720251de4b39"
      },
      "execution_count": 32,
      "outputs": [
        {
          "name": "stdout",
          "output_type": "stream",
          "text": [
            "1234567890\n"
          ]
        },
        {
          "output_type": "execute_result",
          "data": {
            "text/plain": [
              "'1,234,567,890'"
            ],
            "application/vnd.google.colaboratory.intrinsic+json": {
              "type": "string"
            }
          },
          "metadata": {},
          "execution_count": 32
        }
      ]
    },
    {
      "cell_type": "code",
      "source": [
        "s = input().strip()\n",
        "start = s[:len(s) % 3]\n",
        "s = s[len(s) % 3:]\n",
        "l = [s[i*3:i*3+3] for i in range(0, len(s) // 3)]\n",
        "if start == '':\n",
        "  result = ','.join(l)\n",
        "else:\n",
        "  result = start + ',' + ','.join(l)\n",
        "print(result)"
      ],
      "metadata": {
        "colab": {
          "base_uri": "https://localhost:8080/"
        },
        "id": "c6hcWmGhVzrx",
        "outputId": "bee49d7a-31e9-45d1-c5e0-97798ef3e0f1"
      },
      "execution_count": 9,
      "outputs": [
        {
          "output_type": "stream",
          "name": "stdout",
          "text": [
            "12345\n",
            "12,345\n"
          ]
        }
      ]
    },
    {
      "cell_type": "code",
      "source": [
        "string = input().strip()\n",
        "for i in range(len(string)-3, 0, -3):\n",
        "  string = string[:i] + ',' + string[i:]\n",
        "print(string)"
      ],
      "metadata": {
        "colab": {
          "base_uri": "https://localhost:8080/"
        },
        "id": "TrAO5PiBX4Xj",
        "outputId": "7558738f-7935-4257-a056-3c455819b953"
      },
      "execution_count": 20,
      "outputs": [
        {
          "output_type": "stream",
          "name": "stdout",
          "text": [
            "1234567890\n",
            "7\n",
            "4\n",
            "1\n",
            "1,234,567,890\n"
          ]
        }
      ]
    },
    {
      "cell_type": "code",
      "source": [
        "l = ['1', '2', '3']\n",
        "print(*l, sep='')"
      ],
      "metadata": {
        "colab": {
          "base_uri": "https://localhost:8080/"
        },
        "id": "8262GJUoKuOh",
        "outputId": "177c70ac-449c-48a3-c330-7e62ac13211e"
      },
      "execution_count": 19,
      "outputs": [
        {
          "output_type": "stream",
          "name": "stdout",
          "text": [
            "123\n"
          ]
        }
      ]
    },
    {
      "cell_type": "code",
      "source": [],
      "metadata": {
        "id": "5PYxNTo3ME4S"
      },
      "execution_count": null,
      "outputs": []
    }
  ]
}