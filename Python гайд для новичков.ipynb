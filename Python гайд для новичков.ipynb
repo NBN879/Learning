{
  "nbformat": 4,
  "nbformat_minor": 0,
  "metadata": {
    "colab": {
      "name": "Untitled11.ipynb",
      "provenance": [],
      "authorship_tag": "ABX9TyNe5+IvXnTBZFuA3A7hzRxa",
      "include_colab_link": true
    },
    "kernelspec": {
      "name": "python3",
      "display_name": "Python 3"
    },
    "language_info": {
      "name": "python"
    }
  },
  "cells": [
    {
      "cell_type": "markdown",
      "metadata": {
        "id": "view-in-github",
        "colab_type": "text"
      },
      "source": [
        "<a href=\"https://colab.research.google.com/github/vviedienieiev/Learning/blob/main/Python%20%D0%B3%D0%B0%D0%B9%D0%B4%20%D0%B4%D0%BB%D1%8F%20%D0%BD%D0%BE%D0%B2%D0%B8%D1%87%D0%BA%D0%BE%D0%B2.ipynb\" target=\"_parent\"><img src=\"https://colab.research.google.com/assets/colab-badge.svg\" alt=\"Open In Colab\"/></a>"
      ]
    },
    {
      "cell_type": "markdown",
      "metadata": {
        "id": "tfGCIseFSkdp"
      },
      "source": [
        "<h1 align='center'> Python гайд для новичков </h1>\n",
        "<p style='text-align: right'>Автор: Владимир Веденеев </p>\n",
        "<p style='text-align: right'>Создано: 31-07-2021 </p>"
      ]
    }
  ]
}