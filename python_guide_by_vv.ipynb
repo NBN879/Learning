{
  "nbformat": 4,
  "nbformat_minor": 0,
  "metadata": {
    "colab": {
      "name": "python_guide_by_vv.ipynb",
      "provenance": [],
      "collapsed_sections": [],
      "authorship_tag": "ABX9TyMqXTTjPUKyQv4EXlv8tH3M",
      "include_colab_link": true
    },
    "kernelspec": {
      "name": "python3",
      "display_name": "Python 3"
    },
    "language_info": {
      "name": "python"
    }
  },
  "cells": [
    {
      "cell_type": "markdown",
      "metadata": {
        "id": "view-in-github",
        "colab_type": "text"
      },
      "source": [
        "<a href=\"https://colab.research.google.com/github/vviedienieiev/Learning/blob/main/python_guide_by_vv.ipynb\" target=\"_parent\"><img src=\"https://colab.research.google.com/assets/colab-badge.svg\" alt=\"Open In Colab\"/></a>"
      ]
    },
    {
      "cell_type": "markdown",
      "metadata": {
        "id": "tfGCIseFSkdp"
      },
      "source": [
        "<h1 align=\"center\"> Python гайд для новичков </h1>\n",
        "<p align=\"right\">Автор: Владимир Веденеев </p>\n",
        "<p align=\"right\">Создано: 31-07-2021 </p>"
      ]
    }
  ]
}