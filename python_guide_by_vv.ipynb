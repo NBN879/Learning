{
  "nbformat": 4,
  "nbformat_minor": 0,
  "metadata": {
    "colab": {
      "name": "python_guide_by_vv.ipynb",
      "provenance": [],
      "collapsed_sections": [],
      "authorship_tag": "ABX9TyO2vipHSiT9Lu8rkkCxu290",
      "include_colab_link": true
    },
    "kernelspec": {
      "name": "python3",
      "display_name": "Python 3"
    },
    "language_info": {
      "name": "python"
    }
  },
  "cells": [
    {
      "cell_type": "markdown",
      "metadata": {
        "id": "view-in-github",
        "colab_type": "text"
      },
      "source": [
        "<a href=\"https://colab.research.google.com/github/vviedienieiev/Learning/blob/main/python_guide_by_vv.ipynb\" target=\"_parent\"><img src=\"https://colab.research.google.com/assets/colab-badge.svg\" alt=\"Open In Colab\"/></a>"
      ]
    },
    {
      "cell_type": "markdown",
      "metadata": {
        "id": "tfGCIseFSkdp"
      },
      "source": [
        "<h1 align=\"center\"> Python гайд для новичков </h1>\n",
        "<p align=\"right\">Автор: Владимир Веденеев </p>\n",
        "<p align=\"right\">Создано: 31-07-2021 </p>"
      ]
    },
    {
      "cell_type": "markdown",
      "metadata": {
        "id": "iwPhnZ4ybhBY"
      },
      "source": [
        "<h2>Оглавление</h2>\n",
        "<ol type=1>\n",
        "    <li>Предисловие </li>\n",
        "\n",
        "</ol>"
      ]
    },
    {
      "cell_type": "markdown",
      "metadata": {
        "id": "gcw5smzpboSB"
      },
      "source": [
        "<h2>1. Предисловие</h2>\n",
        "<p>Гайд создан для людей, которые еще ни разу не сталкивались с программирование, но очень хотят ему научиться. Я надеюсь, что после прочтения этого гайда у многих людей отпадут вопросы.</p>"
      ]
    },
    {
      "cell_type": "markdown",
      "metadata": {
        "id": "XpDWlA83bsZI"
      },
      "source": [
        ""
      ]
    }
  ]
}